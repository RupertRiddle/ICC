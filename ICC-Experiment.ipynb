{
 "cells": [
  {
   "cell_type": "code",
   "execution_count": 1,
   "metadata": {},
   "outputs": [],
   "source": [
    "import csv\n",
    "import pandas as pd\n",
    "from scipy import stats\n",
    "from sklearn.metrics import accuracy_score, precision_score, recall_score, confusion_matrix, f1_score,classification_report, roc_auc_score\n",
    "import numpy as np\n",
    "from sklearn.model_selection import train_test_split\n",
    "\n",
    "from sklearn.naive_bayes import GaussianNB, MultinomialNB\n",
    "from sklearn.neural_network import MLPClassifier, MLPRegressor"
   ]
  },
  {
   "cell_type": "code",
   "execution_count": 2,
   "metadata": {},
   "outputs": [],
   "source": [
    "xl_file = pd.read_csv('rawdata.csv')\n",
    "xl_file = xl_file.replace(np.nan, 0)\n",
    "df = pd.DataFrame(data = xl_file)\n"
   ]
  },
  {
   "cell_type": "code",
   "execution_count": null,
   "metadata": {},
   "outputs": [],
   "source": []
  },
  {
   "cell_type": "code",
   "execution_count": 3,
   "metadata": {},
   "outputs": [],
   "source": [
    "## Establishing dataset for a 2 class Naive Bayesian Classifier\n",
    "# Cons vs Diss comparison\n",
    "reldata=df.filter(items =['Index','Stimulus','F7', 'F8'])\n",
    "reldata.loc[reldata[\"Stimulus\"] == 'C Dis1.mp3', 'Stimulus'] = 0\n",
    "reldata.loc[reldata[\"Stimulus\"] == 'C Dis2.mp3', 'Stimulus'] = 0\n",
    "reldata.loc[reldata[\"Stimulus\"] == 'D Dis1.mp3', 'Stimulus'] = 0\n",
    "reldata.loc[reldata[\"Stimulus\"] == 'D Dis2.mp3', 'Stimulus'] = 0\n",
    "reldata.loc[reldata[\"Stimulus\"] == 'C Cons1.mp3', 'Stimulus'] = 1\n",
    "reldata.loc[reldata[\"Stimulus\"] == 'C Cons2.mp3', 'Stimulus'] = 1\n",
    "reldata.loc[reldata[\"Stimulus\"] == 'D Cons1.mp3', 'Stimulus'] = 1\n",
    "reldata.loc[reldata[\"Stimulus\"] == 'D Cons2.mp3', 'Stimulus'] = 1\n",
    "reldata.loc[reldata[\"Stimulus\"] == 'C Dis1.mp3 (interval)', 'Stimulus'] = 0\n",
    "reldata.loc[reldata[\"Stimulus\"] == 'C Dis2.mp3 (interval)', 'Stimulus'] = 0\n",
    "reldata.loc[reldata[\"Stimulus\"] == 'D Dis1.mp3 (interval)', 'Stimulus'] = 0\n",
    "reldata.loc[reldata[\"Stimulus\"] == 'D Dis2.mp3 (interval)', 'Stimulus'] = 0\n",
    "reldata.loc[reldata[\"Stimulus\"] == 'C Cons1.mp3 (interval)', 'Stimulus'] = 1\n",
    "reldata.loc[reldata[\"Stimulus\"] == 'C Cons2.mp3 (interval)', 'Stimulus'] = 1\n",
    "reldata.loc[reldata[\"Stimulus\"] == 'D Cons1.mp3 (interval)', 'Stimulus'] = 1\n",
    "reldata.loc[reldata[\"Stimulus\"] == 'D Cons2.mp3 (interval)', 'Stimulus'] = 1\n",
    "\n"
   ]
  },
  {
   "cell_type": "code",
   "execution_count": 4,
   "metadata": {},
   "outputs": [],
   "source": [
    "def remove_outlier(df_in, col_name):\n",
    "    q1 = df_in[col_name].quantile(0.25)\n",
    "    q3 = df_in[col_name].quantile(0.75)\n",
    "    iqr = q3-q1 #Interquartile range\n",
    "    fence_low  = q1-1.5*iqr\n",
    "    fence_high = q3+1.5*iqr\n",
    "    df_out = df_in.loc[(df_in[col_name] > fence_low) & (df_in[col_name] < fence_high)]\n",
    "    return df_out"
   ]
  },
  {
   "cell_type": "code",
   "execution_count": 9,
   "metadata": {},
   "outputs": [],
   "source": [
    "reldata1 = remove_outlier(reldata, 'F7')\n",
    "reldata = remove_outlier(reldata1, 'F8')\n"
   ]
  },
  {
   "cell_type": "code",
   "execution_count": 10,
   "metadata": {},
   "outputs": [
    {
     "data": {
      "text/html": [
       "<div>\n",
       "<style scoped>\n",
       "    .dataframe tbody tr th:only-of-type {\n",
       "        vertical-align: middle;\n",
       "    }\n",
       "\n",
       "    .dataframe tbody tr th {\n",
       "        vertical-align: top;\n",
       "    }\n",
       "\n",
       "    .dataframe thead th {\n",
       "        text-align: right;\n",
       "    }\n",
       "</style>\n",
       "<table border=\"1\" class=\"dataframe\">\n",
       "  <thead>\n",
       "    <tr style=\"text-align: right;\">\n",
       "      <th></th>\n",
       "      <th>Index</th>\n",
       "      <th>Stimulus</th>\n",
       "      <th>F7</th>\n",
       "      <th>F8</th>\n",
       "    </tr>\n",
       "  </thead>\n",
       "  <tbody>\n",
       "    <tr>\n",
       "      <th>count</th>\n",
       "      <td>433734.000000</td>\n",
       "      <td>433734.000000</td>\n",
       "      <td>433734.000000</td>\n",
       "      <td>433734.000000</td>\n",
       "    </tr>\n",
       "    <tr>\n",
       "      <th>mean</th>\n",
       "      <td>12731.789779</td>\n",
       "      <td>0.506345</td>\n",
       "      <td>4071.267227</td>\n",
       "      <td>4418.226201</td>\n",
       "    </tr>\n",
       "    <tr>\n",
       "      <th>std</th>\n",
       "      <td>7375.304221</td>\n",
       "      <td>0.499960</td>\n",
       "      <td>247.741379</td>\n",
       "      <td>437.487079</td>\n",
       "    </tr>\n",
       "    <tr>\n",
       "      <th>min</th>\n",
       "      <td>2.000000</td>\n",
       "      <td>0.000000</td>\n",
       "      <td>3314.358974</td>\n",
       "      <td>2719.487179</td>\n",
       "    </tr>\n",
       "    <tr>\n",
       "      <th>25%</th>\n",
       "      <td>6344.000000</td>\n",
       "      <td>0.000000</td>\n",
       "      <td>3881.025641</td>\n",
       "      <td>3951.794872</td>\n",
       "    </tr>\n",
       "    <tr>\n",
       "      <th>50%</th>\n",
       "      <td>12707.000000</td>\n",
       "      <td>1.000000</td>\n",
       "      <td>4090.769231</td>\n",
       "      <td>4692.820513</td>\n",
       "    </tr>\n",
       "    <tr>\n",
       "      <th>75%</th>\n",
       "      <td>19088.000000</td>\n",
       "      <td>1.000000</td>\n",
       "      <td>4257.435897</td>\n",
       "      <td>4784.615385</td>\n",
       "    </tr>\n",
       "    <tr>\n",
       "      <th>max</th>\n",
       "      <td>27393.000000</td>\n",
       "      <td>1.000000</td>\n",
       "      <td>4823.076923</td>\n",
       "      <td>6033.846154</td>\n",
       "    </tr>\n",
       "  </tbody>\n",
       "</table>\n",
       "</div>"
      ],
      "text/plain": [
       "               Index       Stimulus             F7             F8\n",
       "count  433734.000000  433734.000000  433734.000000  433734.000000\n",
       "mean    12731.789779       0.506345    4071.267227    4418.226201\n",
       "std      7375.304221       0.499960     247.741379     437.487079\n",
       "min         2.000000       0.000000    3314.358974    2719.487179\n",
       "25%      6344.000000       0.000000    3881.025641    3951.794872\n",
       "50%     12707.000000       1.000000    4090.769231    4692.820513\n",
       "75%     19088.000000       1.000000    4257.435897    4784.615385\n",
       "max     27393.000000       1.000000    4823.076923    6033.846154"
      ]
     },
     "execution_count": 10,
     "metadata": {},
     "output_type": "execute_result"
    }
   ],
   "source": [
    "reldata.describe()"
   ]
  },
  {
   "cell_type": "code",
   "execution_count": 11,
   "metadata": {},
   "outputs": [
    {
     "name": "stdout",
     "output_type": "stream",
     "text": [
      "0.5218624275191073\n",
      "0.5212128394392903\n",
      "0.6999749903371757\n",
      "0.5975099707911616\n",
      "[[14483 28281]\n",
      " [13196 30787]]\n",
      "0.5193238528526212\n"
     ]
    }
   ],
   "source": [
    "train, test = train_test_split(reldata, test_size = 0.2)\n",
    "x = train[['F7', 'F8']]\n",
    "y = train['Stimulus']\n",
    "xtest = test[['F7', 'F8']]\n",
    "ytest = test['Stimulus']\n",
    "\n",
    "ymat = ytest.values.reshape(-1,1)\n",
    "xmat = x.values\n",
    "\n",
    "gnb = GaussianNB()\n",
    "pred = gnb.fit(x, y).predict(xtest)\n",
    "print(accuracy_score(ymat, pred))\n",
    "print(precision_score(ymat,pred))\n",
    "print(recall_score(ymat, pred))\n",
    "print(f1_score(ymat, pred))\n",
    "print(confusion_matrix(ymat, pred))\n",
    "print(roc_auc_score(ymat, pred))"
   ]
  },
  {
   "cell_type": "code",
   "execution_count": 12,
   "metadata": {},
   "outputs": [
    {
     "data": {
      "text/plain": [
       "MLPClassifier(activation='relu', alpha=0.0001, batch_size='auto', beta_1=0.9,\n",
       "       beta_2=0.999, early_stopping=False, epsilon=1e-08,\n",
       "       hidden_layer_sizes=(2, 4, 2), learning_rate='constant',\n",
       "       learning_rate_init=0.001, max_iter=1000, momentum=0.9,\n",
       "       n_iter_no_change=10, nesterovs_momentum=True, power_t=0.5,\n",
       "       random_state=None, shuffle=True, solver='adam', tol=0.0001,\n",
       "       validation_fraction=0.1, verbose=False, warm_start=False)"
      ]
     },
     "execution_count": 12,
     "metadata": {},
     "output_type": "execute_result"
    }
   ],
   "source": [
    "mlp2 = MLPClassifier(hidden_layer_sizes= (2, 4, 2), activation = 'relu', solver ='adam', max_iter =1000)\n",
    "mlp2.fit(x,y)"
   ]
  },
  {
   "cell_type": "code",
   "execution_count": 13,
   "metadata": {},
   "outputs": [
    {
     "name": "stdout",
     "output_type": "stream",
     "text": [
      "              precision    recall  f1-score   support\n",
      "\n",
      "           0       0.00      0.00      0.00     42764\n",
      "           1       0.51      1.00      0.67     43983\n",
      "\n",
      "   micro avg       0.51      0.51      0.51     86747\n",
      "   macro avg       0.25      0.50      0.34     86747\n",
      "weighted avg       0.26      0.51      0.34     86747\n",
      "\n"
     ]
    },
    {
     "name": "stderr",
     "output_type": "stream",
     "text": [
      "C:\\Users\\User\\Anaconda3\\lib\\site-packages\\sklearn\\metrics\\classification.py:1143: UndefinedMetricWarning: Precision and F-score are ill-defined and being set to 0.0 in labels with no predicted samples.\n",
      "  'precision', 'predicted', average, warn_for)\n"
     ]
    }
   ],
   "source": [
    "predict_train2 = mlp2.predict(x)\n",
    "predict_test = mlp2.predict(xtest)\n",
    "print(classification_report(ymat, predict_test))"
   ]
  },
  {
   "cell_type": "code",
   "execution_count": 14,
   "metadata": {},
   "outputs": [],
   "source": [
    "## Establishing a data set for a 4 class Naive Bayesian Classifier \n",
    "## C cons vs D cons vs C diss vs D diss\n",
    "reldata4=df.filter(items =['Index','Stimulus','F7', 'F8'])\n",
    "\n"
   ]
  },
  {
   "cell_type": "code",
   "execution_count": 15,
   "metadata": {},
   "outputs": [],
   "source": [
    "reldata41 = remove_outlier(reldata4, 'F7')\n",
    "reldata4 = remove_outlier(reldata41, 'F7')"
   ]
  },
  {
   "cell_type": "code",
   "execution_count": 16,
   "metadata": {},
   "outputs": [
    {
     "name": "stderr",
     "output_type": "stream",
     "text": [
      "C:\\Users\\User\\Anaconda3\\lib\\site-packages\\pandas\\core\\indexing.py:543: SettingWithCopyWarning: \n",
      "A value is trying to be set on a copy of a slice from a DataFrame.\n",
      "Try using .loc[row_indexer,col_indexer] = value instead\n",
      "\n",
      "See the caveats in the documentation: http://pandas.pydata.org/pandas-docs/stable/indexing.html#indexing-view-versus-copy\n",
      "  self.obj[item] = s\n"
     ]
    }
   ],
   "source": [
    "\n",
    "reldata4.loc[reldata4[\"Stimulus\"] == 'C Dis1.mp3', 'Stimulus'] = 0\n",
    "reldata4.loc[reldata4[\"Stimulus\"] == 'C Dis2.mp3', 'Stimulus'] = 0\n",
    "reldata4.loc[reldata4[\"Stimulus\"] == 'D Dis1.mp3', 'Stimulus'] = 1\n",
    "reldata4.loc[reldata4[\"Stimulus\"] == 'D Dis2.mp3', 'Stimulus'] = 1\n",
    "reldata4.loc[reldata4[\"Stimulus\"] == 'C Cons1.mp3', 'Stimulus'] = 2\n",
    "reldata4.loc[reldata4[\"Stimulus\"] == 'C Cons2.mp3', 'Stimulus'] = 2\n",
    "reldata4.loc[reldata4[\"Stimulus\"] == 'D Cons1.mp3', 'Stimulus'] = 3\n",
    "reldata4.loc[reldata4[\"Stimulus\"] == 'D Cons2.mp3', 'Stimulus'] = 3\n",
    "reldata4.loc[reldata4[\"Stimulus\"] == 'C Dis1.mp3 (interval)', 'Stimulus'] = 0\n",
    "reldata4.loc[reldata4[\"Stimulus\"] == 'C Dis2.mp3 (interval)', 'Stimulus'] = 0\n",
    "reldata4.loc[reldata4[\"Stimulus\"] == 'D Dis1.mp3 (interval)', 'Stimulus'] = 1\n",
    "reldata4.loc[reldata4[\"Stimulus\"] == 'D Dis2.mp3 (interval)', 'Stimulus'] = 1\n",
    "reldata4.loc[reldata4[\"Stimulus\"] == 'C Cons1.mp3 (interval)', 'Stimulus'] = 2\n",
    "reldata4.loc[reldata4[\"Stimulus\"] == 'C Cons2.mp3 (interval)', 'Stimulus'] = 2\n",
    "reldata4.loc[reldata4[\"Stimulus\"] == 'D Cons1.mp3 (interval)', 'Stimulus'] = 3\n",
    "reldata4.loc[reldata4[\"Stimulus\"] == 'D Cons2.mp3 (interval)', 'Stimulus'] = 3"
   ]
  },
  {
   "cell_type": "code",
   "execution_count": 17,
   "metadata": {},
   "outputs": [
    {
     "name": "stdout",
     "output_type": "stream",
     "text": [
      "0.2680095359845213\n",
      "0.29211326936359855\n",
      "0.265840476008559\n",
      "0.22680772670070487\n",
      "[[ 2760   700 11339  7152]\n",
      " [ 2149  1058 10851  6993]\n",
      " [ 1777   719 12681  6765]\n",
      " [ 1837   703 12573  6772]]\n"
     ]
    }
   ],
   "source": [
    "train4, test4 = train_test_split(reldata4, test_size = 0.2)\n",
    "x4 = train4[['F7', 'F8']]\n",
    "y4 = train4['Stimulus']\n",
    "xtest4 = test4[['F7', 'F8']]\n",
    "ytest4 = test4['Stimulus']\n",
    "ymat4 = ytest4.values.reshape(-1,1)\n",
    "xmat = x4.values\n",
    "\n",
    "clf = MultinomialNB(fit_prior = False)\n",
    "pred4 = gnb.fit(x4, y4).predict(xtest4)\n",
    "print(accuracy_score(ymat4, pred4))\n",
    "print(precision_score(ymat4,pred4, average = 'macro'))\n",
    "print(recall_score(ymat4, pred4, average = 'macro'))\n",
    "print(f1_score(ymat4, pred4, average = 'macro'))\n",
    "print(confusion_matrix(ymat4, pred4))\n"
   ]
  },
  {
   "cell_type": "code",
   "execution_count": 18,
   "metadata": {},
   "outputs": [
    {
     "data": {
      "text/plain": [
       "MLPClassifier(activation='relu', alpha=0.0001, batch_size='auto', beta_1=0.9,\n",
       "       beta_2=0.999, early_stopping=False, epsilon=1e-08,\n",
       "       hidden_layer_sizes=(2, 4, 4), learning_rate='constant',\n",
       "       learning_rate_init=0.001, max_iter=1000, momentum=0.9,\n",
       "       n_iter_no_change=10, nesterovs_momentum=True, power_t=0.5,\n",
       "       random_state=None, shuffle=True, solver='adam', tol=0.0001,\n",
       "       validation_fraction=0.1, verbose=False, warm_start=False)"
      ]
     },
     "execution_count": 18,
     "metadata": {},
     "output_type": "execute_result"
    }
   ],
   "source": [
    "mlp4 = MLPClassifier(hidden_layer_sizes= (2, 4, 4), activation = 'relu', solver ='adam', max_iter =1000)\n",
    "mlp4.fit(x4,y4)"
   ]
  },
  {
   "cell_type": "code",
   "execution_count": 19,
   "metadata": {},
   "outputs": [
    {
     "name": "stdout",
     "output_type": "stream",
     "text": [
      "              precision    recall  f1-score   support\n",
      "\n",
      "           0       0.25      1.00      0.40     21951\n",
      "           1       0.00      0.00      0.00     21051\n",
      "           2       0.00      0.00      0.00     21942\n",
      "           3       0.00      0.00      0.00     21885\n",
      "\n",
      "   micro avg       0.25      0.25      0.25     86829\n",
      "   macro avg       0.06      0.25      0.10     86829\n",
      "weighted avg       0.06      0.25      0.10     86829\n",
      "\n"
     ]
    },
    {
     "name": "stderr",
     "output_type": "stream",
     "text": [
      "C:\\Users\\User\\Anaconda3\\lib\\site-packages\\sklearn\\metrics\\classification.py:1143: UndefinedMetricWarning: Precision and F-score are ill-defined and being set to 0.0 in labels with no predicted samples.\n",
      "  'precision', 'predicted', average, warn_for)\n"
     ]
    }
   ],
   "source": [
    "predict_train4 = mlp4.predict(x4)\n",
    "predict_test4 = mlp4.predict(xtest4)\n",
    "print(classification_report(ymat4, predict_test4))"
   ]
  },
  {
   "cell_type": "code",
   "execution_count": 20,
   "metadata": {},
   "outputs": [],
   "source": [
    "## Establishing a data set for a 8 class Naive Bayesian Classifier\n",
    "## C cons vs D cons vs C diss vs D diss\n",
    "reldata8=df.filter(items =['Index','Stimulus','F7', 'F8'])\n",
    "\n",
    "reldata8.loc[reldata8[\"Stimulus\"] == 'C Dis1.mp3', 'Stimulus'] = 0\n",
    "reldata8.loc[reldata8[\"Stimulus\"] == 'C Dis2.mp3', 'Stimulus'] = 1\n",
    "reldata8.loc[reldata8[\"Stimulus\"] == 'D Dis1.mp3', 'Stimulus'] = 2\n",
    "reldata8.loc[reldata8[\"Stimulus\"] == 'D Dis2.mp3', 'Stimulus'] = 3\n",
    "reldata8.loc[reldata8[\"Stimulus\"] == 'C Cons1.mp3', 'Stimulus'] = 4\n",
    "reldata8.loc[reldata8[\"Stimulus\"] == 'C Cons2.mp3', 'Stimulus'] = 5\n",
    "reldata8.loc[reldata8[\"Stimulus\"] == 'D Cons1.mp3', 'Stimulus'] = 6\n",
    "reldata8.loc[reldata8[\"Stimulus\"] == 'D Cons2.mp3', 'Stimulus'] = 7\n",
    "reldata8.loc[reldata8[\"Stimulus\"] == 'C Dis1.mp3 (interval)', 'Stimulus'] = 0\n",
    "reldata8.loc[reldata8[\"Stimulus\"] == 'C Dis2.mp3 (interval)', 'Stimulus'] = 1\n",
    "reldata8.loc[reldata8[\"Stimulus\"] == 'D Dis1.mp3 (interval)', 'Stimulus'] = 2\n",
    "reldata8.loc[reldata8[\"Stimulus\"] == 'D Dis2.mp3 (interval)', 'Stimulus'] = 3\n",
    "reldata8.loc[reldata8[\"Stimulus\"] == 'C Cons1.mp3 (interval)', 'Stimulus'] = 4\n",
    "reldata8.loc[reldata8[\"Stimulus\"] == 'C Cons2.mp3 (interval)', 'Stimulus'] = 5\n",
    "reldata8.loc[reldata8[\"Stimulus\"] == 'D Cons1.mp3 (interval)', 'Stimulus'] = 6\n",
    "reldata8.loc[reldata8[\"Stimulus\"] == 'D Cons2.mp3 (interval)', 'Stimulus'] = 7"
   ]
  },
  {
   "cell_type": "code",
   "execution_count": 23,
   "metadata": {},
   "outputs": [],
   "source": [
    "reldata8 = remove_outlier(reldata8, 'F7')\n",
    "reldata8 = remove_outlier(reldata8, 'F8')"
   ]
  },
  {
   "cell_type": "code",
   "execution_count": 24,
   "metadata": {},
   "outputs": [
    {
     "name": "stdout",
     "output_type": "stream",
     "text": [
      "0.13878289739126426\n",
      "0.12040327579581564\n",
      "0.13650855819263463\n",
      "0.09592180393482838\n",
      "[[ 666  749   14    0 4779 4146  262  586]\n",
      " [ 583 1213   26    0 3972 4014  299  494]\n",
      " [ 602  819    8    0 4132 4570  415  484]\n",
      " [ 573  849    9    0 3893 3970  245  374]\n",
      " [ 652  424   14    0 4639 4292  363  579]\n",
      " [ 691  891   18    0 4485 4530  219  369]\n",
      " [ 790  607   13    0 4316 4246  357  553]\n",
      " [ 669  669   13    0 4393 4371  212  626]]\n"
     ]
    },
    {
     "name": "stderr",
     "output_type": "stream",
     "text": [
      "C:\\Users\\User\\Anaconda3\\lib\\site-packages\\sklearn\\metrics\\classification.py:1143: UndefinedMetricWarning: Precision is ill-defined and being set to 0.0 in labels with no predicted samples.\n",
      "  'precision', 'predicted', average, warn_for)\n",
      "C:\\Users\\User\\Anaconda3\\lib\\site-packages\\sklearn\\metrics\\classification.py:1143: UndefinedMetricWarning: F-score is ill-defined and being set to 0.0 in labels with no predicted samples.\n",
      "  'precision', 'predicted', average, warn_for)\n"
     ]
    }
   ],
   "source": [
    "train8, test8 = train_test_split(reldata8, test_size = 0.2)\n",
    "x8 = train8[['F7', 'F8']]\n",
    "y8 = train8['Stimulus']\n",
    "xtest8 = test8[['F7', 'F8']]\n",
    "ytest8 = test8['Stimulus']\n",
    "ymat8 = ytest8.values.reshape(-1,1)\n",
    "xmat8 = x8.values\n",
    "\n",
    "clf = MultinomialNB(fit_prior = False)\n",
    "pred8 = gnb.fit(x8, y8).predict(xtest8)\n",
    "print(accuracy_score(ymat8, pred8))\n",
    "print(precision_score(ymat8,pred8, average = 'macro'))\n",
    "print(recall_score(ymat8, pred8, average = 'macro'))\n",
    "print(f1_score(ymat8, pred8, average = 'macro'))\n",
    "print(confusion_matrix(ymat8, pred8))"
   ]
  },
  {
   "cell_type": "code",
   "execution_count": 147,
   "metadata": {},
   "outputs": [
    {
     "data": {
      "text/plain": [
       "MLPClassifier(activation='relu', alpha=0.0001, batch_size='auto', beta_1=0.9,\n",
       "       beta_2=0.999, early_stopping=False, epsilon=1e-08,\n",
       "       hidden_layer_sizes=(2, 8, 8), learning_rate='constant',\n",
       "       learning_rate_init=0.001, max_iter=1000, momentum=0.9,\n",
       "       n_iter_no_change=10, nesterovs_momentum=True, power_t=0.5,\n",
       "       random_state=None, shuffle=True, solver='adam', tol=0.0001,\n",
       "       validation_fraction=0.1, verbose=False, warm_start=False)"
      ]
     },
     "execution_count": 147,
     "metadata": {},
     "output_type": "execute_result"
    }
   ],
   "source": [
    "mlp8 = MLPClassifier(hidden_layer_sizes= (2, 8, 8), activation = 'relu', solver ='adam', max_iter =1000)\n",
    "mlp8.fit(x8,y8)"
   ]
  },
  {
   "cell_type": "code",
   "execution_count": 148,
   "metadata": {},
   "outputs": [
    {
     "name": "stdout",
     "output_type": "stream",
     "text": [
      "              precision    recall  f1-score   support\n",
      "\n",
      "           0       0.00      0.00      0.00     12507\n",
      "           1       0.11      0.00      0.00     12599\n",
      "           2       0.00      0.00      0.00     12315\n",
      "           3       0.00      0.00      0.00     11185\n",
      "           4       0.00      0.00      0.00     12546\n",
      "           5       0.13      0.98      0.22     12394\n",
      "           6       0.18      0.03      0.05     12589\n",
      "           7       0.22      0.00      0.00     12614\n",
      "\n",
      "   micro avg       0.13      0.13      0.13     98749\n",
      "   macro avg       0.08      0.13      0.03     98749\n",
      "weighted avg       0.08      0.13      0.03     98749\n",
      "\n"
     ]
    },
    {
     "name": "stderr",
     "output_type": "stream",
     "text": [
      "C:\\Users\\User\\Anaconda3\\lib\\site-packages\\sklearn\\metrics\\classification.py:1143: UndefinedMetricWarning: Precision and F-score are ill-defined and being set to 0.0 in labels with no predicted samples.\n",
      "  'precision', 'predicted', average, warn_for)\n"
     ]
    }
   ],
   "source": [
    "predict_train8 = mlp8.predict(x8)\n",
    "predict_test8 = mlp8.predict(xtest8)\n",
    "print(classification_report(ymat8, predict_test8))"
   ]
  }
 ],
 "metadata": {
  "kernelspec": {
   "display_name": "Python 3",
   "language": "python",
   "name": "python3"
  },
  "language_info": {
   "codemirror_mode": {
    "name": "ipython",
    "version": 3
   },
   "file_extension": ".py",
   "mimetype": "text/x-python",
   "name": "python",
   "nbconvert_exporter": "python",
   "pygments_lexer": "ipython3",
   "version": "3.6.7"
  }
 },
 "nbformat": 4,
 "nbformat_minor": 2
}
